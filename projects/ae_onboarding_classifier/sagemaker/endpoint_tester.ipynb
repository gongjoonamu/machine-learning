{
 "cells": [
  {
   "cell_type": "markdown",
   "metadata": {},
   "source": [
    "# Endpoint Tester\n",
    "\n",
    "Sends message to deployed endpoint and prints returned prediction."
   ]
  },
  {
   "cell_type": "code",
   "execution_count": 12,
   "metadata": {
    "collapsed": true
   },
   "outputs": [],
   "source": [
    "msg = \"hey i'm david glad to help you what's up galaxy s8 checkout ringtone details answer view more contacts k thx bye\""
   ]
  },
  {
   "cell_type": "code",
   "execution_count": 20,
   "metadata": {},
   "outputs": [],
   "source": [
    "import tensorflow as tf\n",
    "import os\n",
    "from sagemaker.tensorflow.predictor import tf_serializer, tf_deserializer\n",
    "from sagemaker.predictor import RealTimePredictor\n",
    "from tensorflow.python.saved_model.signature_constants import DEFAULT_SERVING_SIGNATURE_DEF_KEY\n",
    "from tensorflow_serving.apis import classification_pb2\n",
    "from utils.pre_processing import preprocess_data\n",
    "\n",
    "ENDPOINT_NAME = 'sagemaker-tensorflow-py2-cpu-2018-04-11-19-07-13-402'\n",
    "QUESTION = 1\n",
    "\n",
    "\n",
    "def create_feature(v):\n",
    "    return tf.train.Feature(int64_list=tf.train.Int64List(value=v))\n",
    "\n",
    "def build_request(name, features, signature_name=DEFAULT_SERVING_SIGNATURE_DEF_KEY):\n",
    "    request = classification_pb2.ClassificationRequest()\n",
    "    request.model_spec.name = name\n",
    "    request.model_spec.signature_name = signature_name\n",
    "\n",
    "    example = tf.train.Example(features=tf.train.Features(feature=features))\n",
    "    request.input.example_list.examples.extend([example])\n",
    "    \n",
    "    return request\n",
    "\n",
    "def transform(msg):\n",
    "    msg_transform = preprocess_data([msg])\n",
    "    vocab_file = os.path.join(\"data\", \"vocab_question_{}\".format(QUESTION))\n",
    "    vocab_processor = tf.contrib.learn.preprocessing.VocabularyProcessor.restore(vocab_file)\n",
    "    msg_transform = vocab_processor.transform(msg_transform)\n",
    "    return list(msg_transform)[0]"
   ]
  },
  {
   "cell_type": "code",
   "execution_count": 21,
   "metadata": {},
   "outputs": [],
   "source": [
    "predictor = RealTimePredictor(endpoint=ENDPOINT_NAME,\n",
    "                              serializer=tf_serializer,\n",
    "                              content_type='application/octet-stream')\n",
    "features = {'words': create_feature(transform(msg))}\n",
    "request = build_request(\"generic_model\", features)"
   ]
  },
  {
   "cell_type": "code",
   "execution_count": 22,
   "metadata": {},
   "outputs": [
    {
     "name": "stdout",
     "output_type": "stream",
     "text": [
      "result {\n",
      "  classifications {\n",
      "    classes {\n",
      "      label: \"0\"\n",
      "      score: 0.39432576298713684\n",
      "    }\n",
      "    classes {\n",
      "      label: \"1\"\n",
      "      score: 0.6056742072105408\n",
      "    }\n",
      "  }\n",
      "}\n",
      "\n"
     ]
    }
   ],
   "source": [
    "print(predictor.predict(request))"
   ]
  }
 ],
 "metadata": {
  "kernelspec": {
   "display_name": "Python 3",
   "language": "python",
   "name": "python3"
  },
  "language_info": {
   "codemirror_mode": {
    "name": "ipython",
    "version": 3
   },
   "file_extension": ".py",
   "mimetype": "text/x-python",
   "name": "python",
   "nbconvert_exporter": "python",
   "pygments_lexer": "ipython3",
   "version": "3.6.4"
  }
 },
 "nbformat": 4,
 "nbformat_minor": 2
}
