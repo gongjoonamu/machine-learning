{
 "cells": [
  {
   "cell_type": "code",
   "execution_count": null,
   "metadata": {},
   "outputs": [],
   "source": [
    "import sagemaker\n",
    "import tensorflow as tf\n",
    "import os\n",
    "from sagemaker.tensorflow import TensorFlow\n",
    "from sagemaker import get_execution_role\n",
    "\n",
    "role = get_execution_role()\n",
    "\n",
    "QUESTION = 1\n",
    "INSTANCE_TYPE = \"ml.m4.xlarge\"\n",
    "\n",
    "sagemaker_session = sagemaker.Session()\n",
    "inputs = sagemaker_session.upload_data(path='data', key_prefix='data')"
   ]
  },
  {
   "cell_type": "code",
   "execution_count": null,
   "metadata": {},
   "outputs": [],
   "source": [
    "def _get_n_words():\n",
    "    vocab_file = os.path.join(\"data\", \"vocab_question_{}\".format(QUESTION))\n",
    "    vocab_processor = tf.contrib.learn.preprocessing.VocabularyProcessor.restore(vocab_file)\n",
    "    return len(vocab_processor.vocabulary_)\n",
    "\n",
    "\n",
    "\n",
    "classifier = TensorFlow(entry_point='sm_transcript_classifier_ep.py',\n",
    "                               name=\"grader_q{}\".format(QUESTION),\n",
    "                               role=role,\n",
    "                               training_steps= 1e4,                                  \n",
    "                               evaluation_steps= 100,\n",
    "                               train_instance_count=1,\n",
    "                               train_instance_type=INSTANCE_TYPE,\n",
    "                               py_version=\"py2\",\n",
    "                               framework_version=\"1.5\",\n",
    "                               hyperparameters={\n",
    "                                   \"question\": QUESTION,\n",
    "                                   \"n_words\": _get_n_words()\n",
    "                               })\n",
    "\n",
    "classifier.fit(inputs)"
   ]
  },
  {
   "cell_type": "code",
   "execution_count": null,
   "metadata": {},
   "outputs": [],
   "source": [
    "endpoint_name = \"sagemaker-tensorflow-py2-cpu-2018-04-11-15-40-39-797\"\n",
    "classifier = classifier.deploy(initial_instance_count=1, instance_type=INSTANCE_TYPE, endpoint_name=endpoint_name)"
   ]
  }
 ],
 "metadata": {
  "kernelspec": {
   "display_name": "Python 3",
   "language": "python",
   "name": "python3"
  },
  "language_info": {
   "codemirror_mode": {
    "name": "ipython",
    "version": 3
   },
   "file_extension": ".py",
   "mimetype": "text/x-python",
   "name": "python",
   "nbconvert_exporter": "python",
   "pygments_lexer": "ipython3",
   "version": "3.6.4"
  }
 },
 "nbformat": 4,
 "nbformat_minor": 2
}
