{
 "cells": [
  {
   "cell_type": "code",
   "execution_count": null,
   "metadata": {},
   "outputs": [],
   "source": [
    "import sagemaker\n",
    "import tensorflow as tf\n",
    "import os\n",
    "from sagemaker.tensorflow import TensorFlow\n",
    "from sagemaker import get_execution_role\n",
    "from utils.pre_processing import get_model_name\n",
    "\n",
    "role = get_execution_role()\n",
    "\n",
    "INSTANCE_TYPE = \"ml.m4.xlarge\"\n",
    "S3_BUCKET = \"s3://sagemaker-us-east-1-245511257894/models/\"\n",
    "ENDPOINT_NAME = \"sagemaker-tensorflow-ae-onboarding-classifier-endpoint\""
   ]
  },
  {
   "cell_type": "code",
   "execution_count": null,
   "metadata": {},
   "outputs": [],
   "source": [
    "def deploy_model(model_name, model_data):\n",
    "    classifier = sagemaker.tensorflow.model.TensorFlowModel(entry_point='sm_transcript_classifier_ep.py',\n",
    "                                   role=role,\n",
    "                                   name=model_name,\n",
    "                                   model_data=model_data,\n",
    "                                   py_version=\"py2\",\n",
    "                                   framework_version=\"1.6\")\n",
    "\n",
    "\n",
    "    classifier = classifier.deploy(initial_instance_count=1, instance_type=INSTANCE_TYPE, endpoint_name=ENDPOINT_NAME)"
   ]
  },
  {
   "cell_type": "code",
   "execution_count": null,
   "metadata": {},
   "outputs": [],
   "source": [
    "for q in range(1, 4):\n",
    "    model_name = \"grader-question-{}\".format(q)\n",
    "    model_data = S3_BUCKET + get_model_name(q) + \".tar.gz\"\n",
    "    deploy_model(model_name, model_data)"
   ]
  }
 ],
 "metadata": {
  "kernelspec": {
   "display_name": "Python 3",
   "language": "python",
   "name": "python3"
  },
  "language_info": {
   "codemirror_mode": {
    "name": "ipython",
    "version": 3
   },
   "file_extension": ".py",
   "mimetype": "text/x-python",
   "name": "python",
   "nbconvert_exporter": "python",
   "pygments_lexer": "ipython3",
   "version": "3.6.4"
  }
 },
 "nbformat": 4,
 "nbformat_minor": 2
}
